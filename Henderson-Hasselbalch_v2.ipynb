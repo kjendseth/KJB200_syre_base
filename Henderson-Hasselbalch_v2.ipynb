{
 "cells": [
  {
   "cell_type": "markdown",
   "id": "2de7db8d",
   "metadata": {},
   "source": [
    "\n",
    "# Henderson-Hasselbalch ligningen og titrering av syrer og baser\n",
    "\n",
    "### Egenskaper hos vann\n",
    "\n",
    "Vann fungerer både som løsemiddel i celler og organismer, men det spiller også en viktig rolle i biokjemiske reaksjoner. En viktig egenskap ved vann er at molekylet kan ioniseres (1):\n",
    "\n",
    "\n",
    "<center>$$\\mathrm{H_2O\\rightleftharpoons H^+ + OH^-}$$</center>   \n",
    "\n",
    "\n",
    "Rent vann ioniserer i liten grad, og likevektsutrykket for reaksjonen gitt ved dissosiasjonskonstant er (2):\n",
    "\n",
    "\n",
    "$$\\mathrm{K= \\frac{[H^+][OH^-]}{[H_2O]}}$$\n",
    "\n",
    "\n",
    "Konsentrasjonene av $\\mathrm{H^+}$ og $\\mathrm{OH^-}$ er svært lave i rent vann, mens konsentrasjonen av $\\mathrm{H_2O}$ er svært høy, hele 55.5 M. Dissosiasjonskonstanten K betraktes derfor som konstant har har fått navnet \"dissosiasjonskonstanten for vann\" og verdien $\\mathrm{K_w=K[H_2O]=[H^+][OH^-]=10^{-14}}$ ved 25$^{\\circ}$.\n",
    "\n",
    "Når konsentrasjonene av $\\mathrm{H^+}$ og $\\mathrm{OH^-}$ er like, noe som de er i en **nøytral løsning**, må de altså være $\\mathrm{\\sqrt{K_w}=10^{-7}M}$.\n",
    "\n",
    "I stedet for å bruke konsentrasjoner av $\\mathrm{H^+}$ og $\\mathrm{OH^-}$ når en beskriver en løsning brukes heller utrykket \"power of hydrogen\" - forkortet til **pH** (3):\n",
    "\n",
    "$$\\mathrm{pH=-log[H^+]}$$\n",
    "\n",
    "Ved bruk av denne definisjonen er nøytral pH = 7, sure løsninger har pH < 7 og basiske løsninger har pH > 7. Det er viktig å notere seg at en endring på 1 pH enhet tilsvarer en 10 ganger endring i $\\mathrm{[H^+]}$.\n",
    "\n",
    "\n",
    "### Sterke og svake syrer og baser\n",
    "\n",
    "Sterke syrer og baser som HCl og NaOH dissosierer fullstendig i vann:\n",
    "\n",
    "$$\\mathrm{NaOH\\longrightarrow Na^+ + OH^-}$$\n",
    "\n",
    "$$\\mathrm{HCl\\longrightarrow H^+ + Cl^-}$$\n",
    "\n",
    "Svake syrer og baser som eddiksyre og ammoniakk dissosierer ikke fullstendig i vann og konsentrasjonene av de forskjellige spesiene avhenger av dissosiasjonskonstanten til reaksjonen:\n",
    "\n",
    "$$\\mathrm{CH_3COOH + H_2O\\rightleftharpoons CH_3COO^- + H_3O^+}$$\n",
    "\n",
    "$$\\mathrm{NH_4^+ +OH^-\\rightleftharpoons NH_3 + H_2O}$$\n",
    "\n",
    "Når vi snakker om syrer og baser snakker vi ofte om konjugerte par. I reaksjonene over vil $\\mathrm{CH_3COOH}$ kalles syren mens $\\mathrm{CH_3COO^-}$ er den konjugerte basen. Ammoniakk vil være basen, og $\\mathrm{NH_4^+}$ den konjugerte syren.  \n",
    "\n",
    "Likevektskonstanten for dissosiasjonen av eddiksyre er:\n",
    "\n",
    "$$\\mathrm{K= \\frac{[CH_3COO^-][H_3O^+]}{[CH_3COOH][H_2O]}}$$\n",
    "\n",
    "Siden konsentrasjonen av vann anntas å være konstant forenkler vi dette utrykket ved å inkludere konsentrasjonen av vann i syredissosiasjonskonstanten *$\\mathrm{K_a}$*:\n",
    "\n",
    "$$\\mathrm{K_a = K[H_2O]= \\frac{[CH_3COO^-][H^+]}{[CH_3COOH]}}$$\n",
    "\n",
    "\n",
    "$\\mathrm{K_a}$ for eddiksyre er $\\mathrm{1.74 x 10^{-5}}$, noe som betyr at det aller meste av eddiksyren foreligger på $\\mathrm{CH_3COOH}$ formen når den er blandet med rent vann.\n",
    "\n",
    "Som for pH er det praktisk å bruke en logaritmisk skala for $\\mathrm{K_a}$ også:\n",
    "\n",
    "\n",
    "$$\\mathrm{pK_a=-log[K_a]}$$\n",
    "\n",
    "\n",
    "For eddiksyre er $\\mathrm{pK_a=4.76}$. Det betyr at ved pH 4.76 er det like mye $\\mathrm{CH_3COOH}$ som $\\mathrm{CH_3COO^-}$ i løsningen. **Vær oppmerksom på at $\\mathrm{pK_a}$ og $\\mathrm{pK}$ brukes om hverandre i litteraturen.**\n",
    "\n",
    "\n",
    "### Henderson-Hasselbalch ligningen\n",
    "\n",
    "\n",
    "Hvordan kan vi regne ut pH i en løsning der mengdene av konjugerte syre/base par ikke har lik konsentrasjon (dvs. $\\mathrm{pH=pK_a}$)?\n",
    "\n",
    "For å kunne gjøre dette på en effektiv måte så trikser vi litt med likevektsutrykket for dissosiasjonen av en generell syre:\n",
    "\n",
    "$$\\mathrm{HA\\rightleftharpoons A^- + H^+}$$\n",
    "\n",
    "Utrykket for dissosiasjonskonstanten blir:\n",
    "\n",
    "\n",
    "$$\\mathrm{K_a= \\frac{[A^-][H^+]}{[HA]}}$$\n",
    "\n",
    "\n",
    "Snu om på utrykket slik at:\n",
    "\n",
    "\n",
    "$$\\mathrm{[H^+]= K_a\\frac{[HA]}{[A^-]}}$$\n",
    "\n",
    "\n",
    "\n",
    "Utfør en -log operasjon på begge sider av uttrykket (husk at $\\mathrm{log\\frac{a}{b}= log a - log b}$) slik at:\n",
    "\n",
    "\n",
    "\n",
    "$$\\mathrm{-log[H^+]= -logK_a - log\\frac{[HA]}{[A^-]}}$$\n",
    "\n",
    "\n",
    "Dette utrykket kan videre forenkles til det som kalles Henderson-Hasselbalch ligningen (4):\n",
    "\n",
    "\n",
    "$$\\mathrm{pH=pK_a + log\\frac{[A^-]}{[HA]}}$$\n",
    "\n",
    "\n",
    "\n",
    "\n",
    "### Modellering med Henderson-Hasselbalch ligningen - del I\n",
    "\n",
    "Nå skal dere bruke programmering for å modellere Henderson-Hasselbalch ligningen. Først begynner vi med å definere en funksjon som kan beregne pH i en bufferløsning ut i fra pKa verdier og kjente konsentrasjoner av syre ($\\mathrm{HA}$) og konjugert base ($\\mathrm{A^-}$):\n"
   ]
  },
  {
   "cell_type": "markdown",
   "id": "825d7c26",
   "metadata": {},
   "source": [
    "\n"
   ]
  },
  {
   "cell_type": "code",
   "execution_count": 1,
   "id": "d1863abf",
   "metadata": {},
   "outputs": [
    {
     "name": "stdout",
     "output_type": "stream",
     "text": [
      "Beregnet pH er:\n",
      "5.198970004336019\n"
     ]
    }
   ],
   "source": [
    "# Først så importerer vi numpy biblioteket som gir oss muligheten til å bruke en rekke matematiske funksjoner.\n",
    "import numpy as np\n",
    "\n",
    "# Her defineres variablene som brukes i Henderson-Hasselbalch ligningen\n",
    "pKa = 5.5  # pKa verdien til syren eller basen\n",
    "Csyre = 2 # [A-], konsentrasjon i molar\n",
    "Cbase = 1 # [A-], konsentrasjon i molar\n",
    "\n",
    "# Her definerer vi en funksjon som returnerer pH i løsningen. Fordelen med en funksjon er at den kan brukes mange steder flere ganger.\n",
    "def henderson_hasselbalch(pKa, Cbase, Csyre):\n",
    "    pH = pKa + np.log10(Cbase/Csyre)\n",
    "    return pH\n",
    "\n",
    "pH = henderson_hasselbalch(pKa, Cbase, Csyre)\n",
    "print('Beregnet pH er:')\n",
    "print(pH)"
   ]
  },
  {
   "cell_type": "markdown",
   "id": "fe1df01f",
   "metadata": {},
   "source": [
    "**Oppgave 1)**\n",
    "\n",
    "Beregn pH i løsningen med koden under når:\n",
    "\n",
    "$\\mathrm{pK_a}$ = 5.5, $\\mathrm{[HA]}$ = 0.1 M og $\\mathrm{[A^-]}$ = 0.1 M\n",
    "\n",
    "$\\mathrm{pK_a}$ = 5.5, $\\mathrm{[HA]}$ = 0.02 M og $\\mathrm{[A^-]}$ = 0.01 M\n",
    "\n",
    "$\\mathrm{pK_a}$ = 5.5, $\\mathrm{[HA]}$ = 2 M og $\\mathrm{[A^-]}$ = 1 M\n",
    "\n",
    "Med denne modellen, hvordan påvirker totalkonsentrasjonen av buffer og ratioen mellom syre og konjugert base pH i løsningen?\n",
    "\n"
   ]
  },
  {
   "cell_type": "markdown",
   "id": "6ac4d995",
   "metadata": {},
   "source": [
    "### Modellering med Henderson-Hasselbalch ligningen - del 2\n",
    "\n",
    "I denne delen av oppgaven skal dere lage plot der dere kan visualisere hvordan monoprotiske buffere med forskjellige $\\mathrm{K_a}$ verdier oppfører seg gjennom en pH titrering. Et eksemple for eddiksyre er gitt på side 41 i læreboka. Koden dere jobber med skal kunne gjenskape dette plottet og gi dere muligheten til å studere hvordan forskjellige buffere oppfører seg.\n",
    "\n",
    "I figur 2.16 i læreboka finner dere pH verdiene langs y-aksen og fraksjonen av syre som er dissosiert. Klarer du å redegjøre for logikken bak omorganiseringen av  Henderson-Hasselbalch ligningen (4) til det følgende uttrykket (5)?\n",
    "\n",
    "\n",
    "\n",
    "$$\\mathrm{pH=pK_a + log\\frac{x}{1-x}}$$\n",
    "\n",
    "\n",
    "\n",
    "Variabelen x er lik mengden dissosiert syre, fra 0, der alle buffermolekylene foreligger på syreform, til 1, der alle buffermolekylene er dissosiert til den konjugerte basen. I koden under kan du se hvordan vi bruker en ny funksjon til å regne ut pH-verdier for x-verdier mellom 0 og 1.0\n"
   ]
  },
  {
   "cell_type": "code",
   "execution_count": 2,
   "id": "def5da08",
   "metadata": {},
   "outputs": [
    {
     "name": "stderr",
     "output_type": "stream",
     "text": [
      "/var/folders/hn/8z34czns15ggfql9l3z_mpjm0000gn/T/ipykernel_2982/2822373254.py:3: RuntimeWarning: divide by zero encountered in log10\n",
      "  pH = pKa + np.log10(x/(1-x))\n",
      "/var/folders/hn/8z34czns15ggfql9l3z_mpjm0000gn/T/ipykernel_2982/2822373254.py:3: RuntimeWarning: divide by zero encountered in double_scalars\n",
      "  pH = pKa + np.log10(x/(1-x))\n"
     ]
    }
   ],
   "source": [
    "# Her lager vi en ny funksjon basert på uttrykket i (5)\n",
    "def henderson_hasselbalch_titrering(pKa, x):\n",
    "    pH = pKa + np.log10(x/(1-x))\n",
    "    return pH\n",
    "\n",
    "\n",
    "# pKa verdien til syren eller basen\n",
    "pKa = 4.3\n",
    "\n",
    "# Vi beregner 101 punkter til grafen\n",
    "N = 101 \n",
    "\n",
    "# Funksjonen linspace lager en rekke med 101 jevnt fordelte tall fra 0 til 1. En slik rekke tall kalles også en \"array\".\n",
    "x_verdier = np.linspace(0.0, 1.0 , N)\n",
    "\n",
    "# Her lager vi en tom array som kan fylles med tall\n",
    "pH_verdier = []\n",
    "\n",
    "# Koden under kalles en for-løkke. Det den gjør er å beregne pH ved å bruke funksjonen \"henderson_hasselbalch_titrering\"\n",
    "# for hver enkelt verdi av x. For hver beregning legges tallet inn i arrayen pH_verdier.\n",
    "\n",
    "for x in x_verdier:\n",
    "    pH_verdier.append(henderson_hasselbalch_titrering(pKa, x))\n",
    "\n",
    "\n",
    "# Lurer du på hvordan dataene ser ut? Tallene i en array finner du mellom hakeparanteser. \n",
    "# Fjern hashtaggene før print funksjonene under for å ta en titt. \n",
    "#print(x_verdier)  \n",
    "#print(pH_verdier)\n"
   ]
  },
  {
   "cell_type": "markdown",
   "id": "5751d1b0",
   "metadata": {},
   "source": [
    "For å plotte verdiene bruker vi dette skriptet:"
   ]
  },
  {
   "cell_type": "code",
   "execution_count": 7,
   "id": "c52b7162",
   "metadata": {
    "scrolled": true
   },
   "outputs": [
    {
     "data": {
      "text/plain": [
       "Text(0.5, 1.0, 'Syre-base titrering av monoprotisk buffer')"
      ]
     },
     "execution_count": 7,
     "metadata": {},
     "output_type": "execute_result"
    },
    {
     "data": {
      "image/png": "[encoded data removed]",
      "text/plain": [
       "<Figure size 432x288 with 1 Axes>"
      ]
     },
     "metadata": {
      "needs_background": "light"
     },
     "output_type": "display_data"
    }
   ],
   "source": [
    "# Her henter vi biblioteket med funksjoner som vi bruker til å plotte data.\n",
    "import matplotlib.pyplot as plt\n",
    "\n",
    "# Plotter arrayene  x verdiene og pH_verdier \n",
    "plt.plot(x_verdier,pH_verdier,'b')     \n",
    "\n",
    "# Sette navn på x-aksen \n",
    "plt.xlabel('Fraksjon dissosiert syre')\n",
    "\n",
    "# Sette navn på y-aksen\n",
    "plt.ylabel('pH')\n",
    "\n",
    "    \n",
    "# Sette en tittel på grafen\n",
    "plt.title('Syre-base titrering av monoprotisk buffer') \n"
   ]
  },
  {
   "cell_type": "markdown",
   "id": "3c4140fb",
   "metadata": {},
   "source": [
    "**Oppgave 2)**\n",
    "\n",
    "a) Kan du forklare hva som menes med begrepet bufferkapasitet (effective buffering range) ut i fra en graf du lager med koden over?\n",
    "\n",
    "b) Anslå, ved å bruke koden over, i hvilke pH intervaller det er forsvarlig å bruke monoprotiske syrer og baser med $\\mathrm{pK_a}$-verdier på hendholdsvis 3.6, 7.4 og 9.3 som buffere.\n",
    "\n",
    "c) Kan du skissere en titreringskurve for en diprotisk syre med $\\mathrm{pK_a}$-verdier på 2.5 og 9.5 for hånd?"
   ]
  }
 ],
 "metadata": {
  "kernelspec": {
   "display_name": "Python 3 (ipykernel)",
   "language": "python",
   "name": "python3"
  },
  "language_info": {
   "codemirror_mode": {
    "name": "ipython",
    "version": 3
   },
   "file_extension": ".py",
   "mimetype": "text/x-python",
   "name": "python",
   "nbconvert_exporter": "python",
   "pygments_lexer": "ipython3",
   "version": "3.9.7"
  }
 },
 "nbformat": 4,
 "nbformat_minor": 5
}
